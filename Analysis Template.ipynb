{
 "cells": [
  {
   "cell_type": "markdown",
   "id": "respected-finnish",
   "metadata": {},
   "source": [
    "# Title\n",
    "\n",
    "## Introduction"
   ]
  },
  {
   "cell_type": "code",
   "execution_count": 3,
   "id": "behind-campbell",
   "metadata": {},
   "outputs": [],
   "source": [
    "#imports\n",
    "\n",
    "import pandas as pd\n",
    "import numpy as np\n",
    "import seaborn as sns\n",
    "import matplotlib.pyplot as plt"
   ]
  },
  {
   "cell_type": "markdown",
   "id": "czech-uncle",
   "metadata": {},
   "source": [
    "## Description of Analysis\n",
    "\n",
    "Text"
   ]
  },
  {
   "cell_type": "markdown",
   "id": "sacred-royalty",
   "metadata": {},
   "source": [
    "### Data\n",
    "\n",
    "Description of API and data source"
   ]
  },
  {
   "cell_type": "code",
   "execution_count": 4,
   "id": "consolidated-poverty",
   "metadata": {},
   "outputs": [],
   "source": [
    "#Data\n",
    "\n",
    "# import api/data module\n",
    "\n",
    "# API initialization"
   ]
  },
  {
   "cell_type": "code",
   "execution_count": 5,
   "id": "attended-collection",
   "metadata": {},
   "outputs": [],
   "source": [
    "# Define data parameters"
   ]
  },
  {
   "cell_type": "code",
   "execution_count": 6,
   "id": "european-anderson",
   "metadata": {},
   "outputs": [],
   "source": [
    "# Make api request\n",
    "\n",
    "# confirm response"
   ]
  },
  {
   "cell_type": "code",
   "execution_count": 7,
   "id": "fourth-integrity",
   "metadata": {},
   "outputs": [],
   "source": [
    "# Clean and rearrange data"
   ]
  },
  {
   "cell_type": "markdown",
   "id": "structural-treaty",
   "metadata": {},
   "source": [
    "### Descriptive statistics on data  "
   ]
  },
  {
   "cell_type": "code",
   "execution_count": 8,
   "id": "incoming-recruitment",
   "metadata": {},
   "outputs": [],
   "source": [
    "# Add return"
   ]
  },
  {
   "cell_type": "code",
   "execution_count": 9,
   "id": "unlike-mouse",
   "metadata": {},
   "outputs": [],
   "source": [
    "# Plots on retruns and distribution of returns"
   ]
  },
  {
   "cell_type": "markdown",
   "id": "differential-second",
   "metadata": {},
   "source": [
    "## Description of Strategy"
   ]
  },
  {
   "cell_type": "code",
   "execution_count": 10,
   "id": "applied-facial",
   "metadata": {},
   "outputs": [],
   "source": [
    "# Strategy and positioning for strategies"
   ]
  },
  {
   "cell_type": "code",
   "execution_count": 11,
   "id": "hidden-sweet",
   "metadata": {},
   "outputs": [],
   "source": [
    "# Metrics for measuring performance\n",
    "\n",
    "## cummulative returns\n",
    "## mean returns\n",
    "## deviation from expected\n",
    "## sharpe ratio x > 1/1.25\n",
    "## turnover 1% < x < 70%\n",
    "## fitness x > 1"
   ]
  },
  {
   "cell_type": "code",
   "execution_count": 12,
   "id": "stone-prison",
   "metadata": {},
   "outputs": [],
   "source": [
    "# Visuals on strategy and positioning for strategies\n",
    "\n",
    "## positioning\n",
    "## distribution of strategy returns\n",
    "## cumulative returns"
   ]
  },
  {
   "cell_type": "markdown",
   "id": "selective-bridge",
   "metadata": {},
   "source": [
    "## Strategy Optimization\n",
    "\n",
    "### Description of methods used"
   ]
  },
  {
   "cell_type": "code",
   "execution_count": 13,
   "id": "decent-stand",
   "metadata": {},
   "outputs": [],
   "source": [
    "## max of cummulative returns\n",
    "\n",
    "## check other metrics"
   ]
  },
  {
   "cell_type": "code",
   "execution_count": 14,
   "id": "homeless-spank",
   "metadata": {},
   "outputs": [],
   "source": [
    "## max sharpe ratio\n",
    "\n",
    "## check other metrics"
   ]
  },
  {
   "cell_type": "markdown",
   "id": "moved-mistress",
   "metadata": {},
   "source": [
    "## Any other approaches"
   ]
  },
  {
   "cell_type": "code",
   "execution_count": 15,
   "id": "close-builder",
   "metadata": {},
   "outputs": [],
   "source": [
    "##"
   ]
  }
 ],
 "metadata": {
  "kernelspec": {
   "display_name": "Python 3",
   "language": "python",
   "name": "python3"
  },
  "language_info": {
   "codemirror_mode": {
    "name": "ipython",
    "version": 3
   },
   "file_extension": ".py",
   "mimetype": "text/x-python",
   "name": "python",
   "nbconvert_exporter": "python",
   "pygments_lexer": "ipython3",
   "version": "3.8.10"
  }
 },
 "nbformat": 4,
 "nbformat_minor": 5
}
